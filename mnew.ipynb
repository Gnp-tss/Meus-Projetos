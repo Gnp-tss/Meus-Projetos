{
 "cells": [
  {
   "cell_type": "markdown",
   "metadata": {},
   "source": [
    "Método numérico de Newton-Rhaphson, usado para encontrar raízes aproximadas de equações.\n",
    "\n",
    "xn+1= xn - f(xn)/f'(xn)\n"
   ]
  },
  {
   "cell_type": "code",
   "execution_count": null,
   "metadata": {},
   "outputs": [
    {
     "name": "stdout",
     "output_type": "stream",
     "text": [
      "Não foi possível encontrar a raiz.\n"
     ]
    }
   ],
   "source": [
    "import sympy as sp\n",
    "# Definindo a variável simbólica\n",
    "x = sp.symbols('x')\n",
    "# Definindo a função\n",
    "f = x**2 - 1\n",
    "# Calculando a derivada\n",
    "f_d1 = sp.diff(f, x)\n",
    "# Converter para função numérica\n",
    "f_num = sp.lambdify(x, f, \"numpy\") \n",
    "f_d1_num = sp.lambdify(x, f_d1, \"numpy\")\n",
    "# Método de Newton-Raphson\n",
    "def newton_raphson(f, f_d1, x0, tol=1e-6,max_iter=100):\n",
    "    xi=x0\n",
    "    for i in range (max_iter):\n",
    "        fx = f(xi)\n",
    "        fpx = f_d1(xi)\n",
    "        if fpx==0:\n",
    "            print(\"Derivada nula. O método falhou!\")\n",
    "            return None\n",
    "        xi_new= xi - fx/fpx\n",
    "        if abs(xi_new - xi) < tol:\n",
    "            return xi_new, i+1\n",
    "        xi= xi_new\n",
    "        return xi, i+1\n",
    "# Chute inicial\n",
    "chute_inicial= 0.5\n",
    "# Chamando a função\n",
    "raiz = newton_raphson(f_num, f_d1_num, chute_inicial)\n",
    "# Exibindo o resultado\n",
    "if raiz is not None:\n",
    "            print(f\"A raiz aproximada é: {raiz:.6f},número de iterações: {i+1}\")\n",
    "else:\n",
    "            print(\"Não foi possível encontrar a raiz.\")"
   ]
  }
 ],
 "metadata": {
  "kernelspec": {
   "display_name": "Python 3",
   "language": "python",
   "name": "python3"
  },
  "language_info": {
   "codemirror_mode": {
    "name": "ipython",
    "version": 3
   },
   "file_extension": ".py",
   "mimetype": "text/x-python",
   "name": "python",
   "nbconvert_exporter": "python",
   "pygments_lexer": "ipython3",
   "version": "3.13.1"
  }
 },
 "nbformat": 4,
 "nbformat_minor": 2
}
